{
  "nbformat": 4,
  "nbformat_minor": 0,
  "metadata": {
    "colab": {
      "name": "EndtoEnd.ipynb",
      "provenance": [],
      "collapsed_sections": []
    },
    "kernelspec": {
      "name": "python3",
      "display_name": "Python 3"
    },
    "language_info": {
      "name": "python"
    }
  },
  "cells": [
    {
      "cell_type": "code",
      "execution_count": null,
      "metadata": {
        "colab": {
          "base_uri": "https://localhost:8080/"
        },
        "id": "tA8sbI4VQTAE",
        "outputId": "d9c4caf7-a122-48ed-d47d-dedbc3d3c50c"
      },
      "outputs": [
        {
          "output_type": "stream",
          "name": "stdout",
          "text": [
            "--2022-05-11 08:40:11--  https://repo.continuum.io/miniconda/Miniconda3-latest-Linux-x86_64.sh\n",
            "Resolving repo.continuum.io (repo.continuum.io)... 104.18.201.79, 104.18.200.79, 2606:4700::6812:c94f, ...\n",
            "Connecting to repo.continuum.io (repo.continuum.io)|104.18.201.79|:443... connected.\n",
            "HTTP request sent, awaiting response... 301 Moved Permanently\n",
            "Location: https://repo.anaconda.com/miniconda/Miniconda3-latest-Linux-x86_64.sh [following]\n",
            "--2022-05-11 08:40:12--  https://repo.anaconda.com/miniconda/Miniconda3-latest-Linux-x86_64.sh\n",
            "Resolving repo.anaconda.com (repo.anaconda.com)... 104.16.131.3, 104.16.130.3, 2606:4700::6810:8303, ...\n",
            "Connecting to repo.anaconda.com (repo.anaconda.com)|104.16.131.3|:443... connected.\n",
            "HTTP request sent, awaiting response... 200 OK\n",
            "Length: 75660608 (72M) [application/x-sh]\n",
            "Saving to: ‘Miniconda3-latest-Linux-x86_64.sh’\n",
            "\n",
            "Miniconda3-latest-L 100%[===================>]  72.16M   104MB/s    in 0.7s    \n",
            "\n",
            "2022-05-11 08:40:12 (104 MB/s) - ‘Miniconda3-latest-Linux-x86_64.sh’ saved [75660608/75660608]\n",
            "\n"
          ]
        }
      ],
      "source": [
        "!wget https://repo.continuum.io/miniconda/Miniconda3-latest-Linux-x86_64.sh"
      ]
    },
    {
      "cell_type": "code",
      "source": [
        "import pandas as pd\n",
        "import numpy as np\n",
        "import matplotlib.pyplot as plt\n",
        "\n",
        "from sklearn.preprocessing import StandardScaler, LabelEncoder, OneHotEncoder\n",
        "from sklearn.compose import make_column_transformer\n",
        "from sklearn.impute import KNNImputer"
      ],
      "metadata": {
        "id": "VGrqdajYRuUl"
      },
      "execution_count": null,
      "outputs": []
    },
    {
      "cell_type": "code",
      "source": [
        "data = pd.read_csv(\"/content/sample_data/california_housing_train.csv\")\n",
        "data.head()"
      ],
      "metadata": {
        "colab": {
          "base_uri": "https://localhost:8080/",
          "height": 270
        },
        "id": "1ZGz1_PkSarn",
        "outputId": "72df4603-d9b7-44a5-b30f-8459d2d95372"
      },
      "execution_count": null,
      "outputs": [
        {
          "output_type": "execute_result",
          "data": {
            "text/plain": [
              "   longitude  latitude  housing_median_age  total_rooms  total_bedrooms  \\\n",
              "0    -114.31     34.19                15.0       5612.0          1283.0   \n",
              "1    -114.47     34.40                19.0       7650.0          1901.0   \n",
              "2    -114.56     33.69                17.0        720.0           174.0   \n",
              "3    -114.57     33.64                14.0       1501.0           337.0   \n",
              "4    -114.57     33.57                20.0       1454.0           326.0   \n",
              "\n",
              "   population  households  median_income  median_house_value  \n",
              "0      1015.0       472.0         1.4936             66900.0  \n",
              "1      1129.0       463.0         1.8200             80100.0  \n",
              "2       333.0       117.0         1.6509             85700.0  \n",
              "3       515.0       226.0         3.1917             73400.0  \n",
              "4       624.0       262.0         1.9250             65500.0  "
            ],
            "text/html": [
              "\n",
              "  <div id=\"df-3f4995a5-3a24-4c1f-bb36-a416da08285d\">\n",
              "    <div class=\"colab-df-container\">\n",
              "      <div>\n",
              "<style scoped>\n",
              "    .dataframe tbody tr th:only-of-type {\n",
              "        vertical-align: middle;\n",
              "    }\n",
              "\n",
              "    .dataframe tbody tr th {\n",
              "        vertical-align: top;\n",
              "    }\n",
              "\n",
              "    .dataframe thead th {\n",
              "        text-align: right;\n",
              "    }\n",
              "</style>\n",
              "<table border=\"1\" class=\"dataframe\">\n",
              "  <thead>\n",
              "    <tr style=\"text-align: right;\">\n",
              "      <th></th>\n",
              "      <th>longitude</th>\n",
              "      <th>latitude</th>\n",
              "      <th>housing_median_age</th>\n",
              "      <th>total_rooms</th>\n",
              "      <th>total_bedrooms</th>\n",
              "      <th>population</th>\n",
              "      <th>households</th>\n",
              "      <th>median_income</th>\n",
              "      <th>median_house_value</th>\n",
              "    </tr>\n",
              "  </thead>\n",
              "  <tbody>\n",
              "    <tr>\n",
              "      <th>0</th>\n",
              "      <td>-114.31</td>\n",
              "      <td>34.19</td>\n",
              "      <td>15.0</td>\n",
              "      <td>5612.0</td>\n",
              "      <td>1283.0</td>\n",
              "      <td>1015.0</td>\n",
              "      <td>472.0</td>\n",
              "      <td>1.4936</td>\n",
              "      <td>66900.0</td>\n",
              "    </tr>\n",
              "    <tr>\n",
              "      <th>1</th>\n",
              "      <td>-114.47</td>\n",
              "      <td>34.40</td>\n",
              "      <td>19.0</td>\n",
              "      <td>7650.0</td>\n",
              "      <td>1901.0</td>\n",
              "      <td>1129.0</td>\n",
              "      <td>463.0</td>\n",
              "      <td>1.8200</td>\n",
              "      <td>80100.0</td>\n",
              "    </tr>\n",
              "    <tr>\n",
              "      <th>2</th>\n",
              "      <td>-114.56</td>\n",
              "      <td>33.69</td>\n",
              "      <td>17.0</td>\n",
              "      <td>720.0</td>\n",
              "      <td>174.0</td>\n",
              "      <td>333.0</td>\n",
              "      <td>117.0</td>\n",
              "      <td>1.6509</td>\n",
              "      <td>85700.0</td>\n",
              "    </tr>\n",
              "    <tr>\n",
              "      <th>3</th>\n",
              "      <td>-114.57</td>\n",
              "      <td>33.64</td>\n",
              "      <td>14.0</td>\n",
              "      <td>1501.0</td>\n",
              "      <td>337.0</td>\n",
              "      <td>515.0</td>\n",
              "      <td>226.0</td>\n",
              "      <td>3.1917</td>\n",
              "      <td>73400.0</td>\n",
              "    </tr>\n",
              "    <tr>\n",
              "      <th>4</th>\n",
              "      <td>-114.57</td>\n",
              "      <td>33.57</td>\n",
              "      <td>20.0</td>\n",
              "      <td>1454.0</td>\n",
              "      <td>326.0</td>\n",
              "      <td>624.0</td>\n",
              "      <td>262.0</td>\n",
              "      <td>1.9250</td>\n",
              "      <td>65500.0</td>\n",
              "    </tr>\n",
              "  </tbody>\n",
              "</table>\n",
              "</div>\n",
              "      <button class=\"colab-df-convert\" onclick=\"convertToInteractive('df-3f4995a5-3a24-4c1f-bb36-a416da08285d')\"\n",
              "              title=\"Convert this dataframe to an interactive table.\"\n",
              "              style=\"display:none;\">\n",
              "        \n",
              "  <svg xmlns=\"http://www.w3.org/2000/svg\" height=\"24px\"viewBox=\"0 0 24 24\"\n",
              "       width=\"24px\">\n",
              "    <path d=\"M0 0h24v24H0V0z\" fill=\"none\"/>\n",
              "    <path d=\"M18.56 5.44l.94 2.06.94-2.06 2.06-.94-2.06-.94-.94-2.06-.94 2.06-2.06.94zm-11 1L8.5 8.5l.94-2.06 2.06-.94-2.06-.94L8.5 2.5l-.94 2.06-2.06.94zm10 10l.94 2.06.94-2.06 2.06-.94-2.06-.94-.94-2.06-.94 2.06-2.06.94z\"/><path d=\"M17.41 7.96l-1.37-1.37c-.4-.4-.92-.59-1.43-.59-.52 0-1.04.2-1.43.59L10.3 9.45l-7.72 7.72c-.78.78-.78 2.05 0 2.83L4 21.41c.39.39.9.59 1.41.59.51 0 1.02-.2 1.41-.59l7.78-7.78 2.81-2.81c.8-.78.8-2.07 0-2.86zM5.41 20L4 18.59l7.72-7.72 1.47 1.35L5.41 20z\"/>\n",
              "  </svg>\n",
              "      </button>\n",
              "      \n",
              "  <style>\n",
              "    .colab-df-container {\n",
              "      display:flex;\n",
              "      flex-wrap:wrap;\n",
              "      gap: 12px;\n",
              "    }\n",
              "\n",
              "    .colab-df-convert {\n",
              "      background-color: #E8F0FE;\n",
              "      border: none;\n",
              "      border-radius: 50%;\n",
              "      cursor: pointer;\n",
              "      display: none;\n",
              "      fill: #1967D2;\n",
              "      height: 32px;\n",
              "      padding: 0 0 0 0;\n",
              "      width: 32px;\n",
              "    }\n",
              "\n",
              "    .colab-df-convert:hover {\n",
              "      background-color: #E2EBFA;\n",
              "      box-shadow: 0px 1px 2px rgba(60, 64, 67, 0.3), 0px 1px 3px 1px rgba(60, 64, 67, 0.15);\n",
              "      fill: #174EA6;\n",
              "    }\n",
              "\n",
              "    [theme=dark] .colab-df-convert {\n",
              "      background-color: #3B4455;\n",
              "      fill: #D2E3FC;\n",
              "    }\n",
              "\n",
              "    [theme=dark] .colab-df-convert:hover {\n",
              "      background-color: #434B5C;\n",
              "      box-shadow: 0px 1px 3px 1px rgba(0, 0, 0, 0.15);\n",
              "      filter: drop-shadow(0px 1px 2px rgba(0, 0, 0, 0.3));\n",
              "      fill: #FFFFFF;\n",
              "    }\n",
              "  </style>\n",
              "\n",
              "      <script>\n",
              "        const buttonEl =\n",
              "          document.querySelector('#df-3f4995a5-3a24-4c1f-bb36-a416da08285d button.colab-df-convert');\n",
              "        buttonEl.style.display =\n",
              "          google.colab.kernel.accessAllowed ? 'block' : 'none';\n",
              "\n",
              "        async function convertToInteractive(key) {\n",
              "          const element = document.querySelector('#df-3f4995a5-3a24-4c1f-bb36-a416da08285d');\n",
              "          const dataTable =\n",
              "            await google.colab.kernel.invokeFunction('convertToInteractive',\n",
              "                                                     [key], {});\n",
              "          if (!dataTable) return;\n",
              "\n",
              "          const docLinkHtml = 'Like what you see? Visit the ' +\n",
              "            '<a target=\"_blank\" href=https://colab.research.google.com/notebooks/data_table.ipynb>data table notebook</a>'\n",
              "            + ' to learn more about interactive tables.';\n",
              "          element.innerHTML = '';\n",
              "          dataTable['output_type'] = 'display_data';\n",
              "          await google.colab.output.renderOutput(dataTable, element);\n",
              "          const docLink = document.createElement('div');\n",
              "          docLink.innerHTML = docLinkHtml;\n",
              "          element.appendChild(docLink);\n",
              "        }\n",
              "      </script>\n",
              "    </div>\n",
              "  </div>\n",
              "  "
            ]
          },
          "metadata": {},
          "execution_count": 4
        }
      ]
    },
    {
      "cell_type": "code",
      "source": [
        "data.drop(['total_rooms'], axis = 1, inplace=True)\n",
        "data.info()"
      ],
      "metadata": {
        "colab": {
          "base_uri": "https://localhost:8080/"
        },
        "id": "gj1aEEFCTCXS",
        "outputId": "76a94945-537b-4f10-cb34-5f402c80eb0d"
      },
      "execution_count": null,
      "outputs": [
        {
          "output_type": "stream",
          "name": "stdout",
          "text": [
            "<class 'pandas.core.frame.DataFrame'>\n",
            "RangeIndex: 17000 entries, 0 to 16999\n",
            "Data columns (total 8 columns):\n",
            " #   Column              Non-Null Count  Dtype  \n",
            "---  ------              --------------  -----  \n",
            " 0   longitude           17000 non-null  float64\n",
            " 1   latitude            17000 non-null  float64\n",
            " 2   housing_median_age  17000 non-null  float64\n",
            " 3   total_bedrooms      17000 non-null  float64\n",
            " 4   population          17000 non-null  float64\n",
            " 5   households          17000 non-null  float64\n",
            " 6   median_income       17000 non-null  float64\n",
            " 7   median_house_value  17000 non-null  float64\n",
            "dtypes: float64(8)\n",
            "memory usage: 1.0 MB\n"
          ]
        }
      ]
    },
    {
      "cell_type": "code",
      "source": [
        "dataisnull (). sum()"
      ],
      "metadata": {
        "colab": {
          "base_uri": "https://localhost:8080/",
          "height": 166
        },
        "id": "pIhXvTuFT6zw",
        "outputId": "a3b21959-5d54-44a2-874c-35e9438b8704"
      },
      "execution_count": null,
      "outputs": [
        {
          "output_type": "error",
          "ename": "NameError",
          "evalue": "ignored",
          "traceback": [
            "\u001b[0;31m---------------------------------------------------------------------------\u001b[0m",
            "\u001b[0;31mNameError\u001b[0m                                 Traceback (most recent call last)",
            "\u001b[0;32m<ipython-input-15-3b19af056bcb>\u001b[0m in \u001b[0;36m<module>\u001b[0;34m()\u001b[0m\n\u001b[0;32m----> 1\u001b[0;31m \u001b[0mdataisnull\u001b[0m \u001b[0;34m(\u001b[0m\u001b[0;34m)\u001b[0m\u001b[0;34m.\u001b[0m \u001b[0msum\u001b[0m\u001b[0;34m(\u001b[0m\u001b[0;34m)\u001b[0m\u001b[0;34m\u001b[0m\u001b[0;34m\u001b[0m\u001b[0m\n\u001b[0m",
            "\u001b[0;31mNameError\u001b[0m: name 'dataisnull' is not defined"
          ]
        }
      ]
    },
    {
      "cell_type": "code",
      "source": [
        "data.drop(['population'], axis = 1, inplace=True)"
      ],
      "metadata": {
        "id": "PrA7UHsyV2yj"
      },
      "execution_count": null,
      "outputs": []
    },
    {
      "cell_type": "code",
      "source": [
        "np.unique(data['longitude'])"
      ],
      "metadata": {
        "colab": {
          "base_uri": "https://localhost:8080/"
        },
        "id": "_MoK7vXOX9hi",
        "outputId": "794e8b17-6c7a-4061-9968-1bcefe92ebc5"
      },
      "execution_count": null,
      "outputs": [
        {
          "output_type": "execute_result",
          "data": {
            "text/plain": [
              "array([-124.35, -124.3 , -124.27, -124.26, -124.25, -124.23, -124.22,\n",
              "       -124.21, -124.19, -124.18, -124.17, -124.16, -124.15, -124.14,\n",
              "       -124.13, -124.11, -124.1 , -124.09, -124.08, -124.07, -124.06,\n",
              "       -124.05, -124.03, -124.02, -124.01, -124.  , -123.98, -123.96,\n",
              "       -123.91, -123.88, -123.85, -123.84, -123.83, -123.82, -123.81,\n",
              "       -123.8 , -123.79, -123.78, -123.76, -123.75, -123.73, -123.72,\n",
              "       -123.71, -123.7 , -123.69, -123.68, -123.66, -123.64, -123.63,\n",
              "       -123.59, -123.58, -123.54, -123.53, -123.49, -123.48, -123.43,\n",
              "       -123.41, -123.4 , -123.38, -123.37, -123.36, -123.35, -123.34,\n",
              "       -123.32, -123.26, -123.25, -123.24, -123.23, -123.22, -123.21,\n",
              "       -123.2 , -123.19, -123.18, -123.17, -123.16, -123.15, -123.13,\n",
              "       -123.12, -123.11, -123.1 , -123.08, -123.07, -123.04, -123.03,\n",
              "       -123.02, -123.01, -123.  , -122.99, -122.98, -122.97, -122.96,\n",
              "       -122.95, -122.94, -122.93, -122.92, -122.91, -122.9 , -122.89,\n",
              "       -122.88, -122.87, -122.86, -122.85, -122.84, -122.83, -122.82,\n",
              "       -122.81, -122.8 , -122.79, -122.78, -122.77, -122.76, -122.75,\n",
              "       -122.74, -122.73, -122.72, -122.71, -122.7 , -122.69, -122.68,\n",
              "       -122.67, -122.66, -122.65, -122.64, -122.63, -122.62, -122.61,\n",
              "       -122.6 , -122.59, -122.58, -122.57, -122.56, -122.55, -122.54,\n",
              "       -122.53, -122.52, -122.51, -122.5 , -122.49, -122.48, -122.47,\n",
              "       -122.46, -122.45, -122.44, -122.43, -122.42, -122.41, -122.4 ,\n",
              "       -122.39, -122.38, -122.37, -122.36, -122.35, -122.34, -122.33,\n",
              "       -122.32, -122.31, -122.3 , -122.29, -122.28, -122.27, -122.26,\n",
              "       -122.25, -122.24, -122.23, -122.22, -122.21, -122.2 , -122.19,\n",
              "       -122.18, -122.17, -122.16, -122.15, -122.14, -122.13, -122.12,\n",
              "       -122.11, -122.1 , -122.09, -122.08, -122.07, -122.06, -122.05,\n",
              "       -122.04, -122.03, -122.02, -122.01, -122.  , -121.99, -121.98,\n",
              "       -121.97, -121.96, -121.95, -121.94, -121.93, -121.92, -121.91,\n",
              "       -121.9 , -121.89, -121.88, -121.87, -121.86, -121.85, -121.84,\n",
              "       -121.83, -121.82, -121.81, -121.8 , -121.79, -121.78, -121.77,\n",
              "       -121.76, -121.75, -121.74, -121.73, -121.72, -121.71, -121.7 ,\n",
              "       -121.69, -121.68, -121.67, -121.66, -121.65, -121.64, -121.63,\n",
              "       -121.62, -121.61, -121.6 , -121.59, -121.58, -121.57, -121.56,\n",
              "       -121.55, -121.54, -121.53, -121.52, -121.51, -121.5 , -121.49,\n",
              "       -121.48, -121.47, -121.46, -121.45, -121.44, -121.43, -121.42,\n",
              "       -121.41, -121.4 , -121.39, -121.38, -121.37, -121.36, -121.35,\n",
              "       -121.34, -121.33, -121.32, -121.31, -121.3 , -121.29, -121.28,\n",
              "       -121.27, -121.26, -121.25, -121.24, -121.23, -121.22, -121.21,\n",
              "       -121.2 , -121.19, -121.18, -121.17, -121.16, -121.15, -121.14,\n",
              "       -121.13, -121.12, -121.11, -121.1 , -121.09, -121.08, -121.07,\n",
              "       -121.06, -121.05, -121.04, -121.03, -121.02, -121.01, -121.  ,\n",
              "       -120.99, -120.98, -120.97, -120.96, -120.95, -120.94, -120.93,\n",
              "       -120.92, -120.91, -120.9 , -120.89, -120.88, -120.87, -120.86,\n",
              "       -120.85, -120.84, -120.83, -120.82, -120.81, -120.8 , -120.79,\n",
              "       -120.78, -120.77, -120.76, -120.75, -120.74, -120.73, -120.72,\n",
              "       -120.71, -120.7 , -120.69, -120.68, -120.67, -120.66, -120.65,\n",
              "       -120.64, -120.63, -120.62, -120.61, -120.6 , -120.59, -120.58,\n",
              "       -120.57, -120.56, -120.55, -120.54, -120.53, -120.52, -120.51,\n",
              "       -120.5 , -120.49, -120.48, -120.47, -120.46, -120.45, -120.44,\n",
              "       -120.43, -120.42, -120.41, -120.4 , -120.39, -120.38, -120.37,\n",
              "       -120.36, -120.35, -120.34, -120.33, -120.32, -120.31, -120.3 ,\n",
              "       -120.29, -120.28, -120.27, -120.26, -120.25, -120.24, -120.23,\n",
              "       -120.22, -120.21, -120.2 , -120.19, -120.18, -120.17, -120.16,\n",
              "       -120.15, -120.14, -120.13, -120.12, -120.11, -120.1 , -120.09,\n",
              "       -120.08, -120.07, -120.06, -120.05, -120.04, -120.03, -120.02,\n",
              "       -120.01, -120.  , -119.99, -119.98, -119.97, -119.96, -119.95,\n",
              "       -119.94, -119.93, -119.92, -119.91, -119.9 , -119.89, -119.88,\n",
              "       -119.87, -119.86, -119.85, -119.84, -119.83, -119.82, -119.81,\n",
              "       -119.8 , -119.79, -119.78, -119.77, -119.76, -119.75, -119.74,\n",
              "       -119.73, -119.72, -119.71, -119.7 , -119.69, -119.68, -119.67,\n",
              "       -119.66, -119.65, -119.64, -119.63, -119.62, -119.61, -119.6 ,\n",
              "       -119.59, -119.58, -119.57, -119.56, -119.55, -119.54, -119.53,\n",
              "       -119.52, -119.51, -119.5 , -119.49, -119.48, -119.47, -119.46,\n",
              "       -119.45, -119.44, -119.43, -119.42, -119.41, -119.4 , -119.39,\n",
              "       -119.38, -119.37, -119.36, -119.35, -119.34, -119.33, -119.32,\n",
              "       -119.31, -119.3 , -119.29, -119.28, -119.27, -119.26, -119.25,\n",
              "       -119.24, -119.23, -119.22, -119.21, -119.2 , -119.19, -119.18,\n",
              "       -119.17, -119.16, -119.15, -119.14, -119.13, -119.12, -119.11,\n",
              "       -119.1 , -119.09, -119.08, -119.07, -119.06, -119.05, -119.04,\n",
              "       -119.03, -119.02, -119.01, -119.  , -118.99, -118.98, -118.97,\n",
              "       -118.96, -118.95, -118.94, -118.93, -118.92, -118.91, -118.9 ,\n",
              "       -118.89, -118.88, -118.87, -118.86, -118.85, -118.84, -118.83,\n",
              "       -118.82, -118.81, -118.8 , -118.79, -118.78, -118.77, -118.76,\n",
              "       -118.75, -118.74, -118.73, -118.72, -118.71, -118.7 , -118.69,\n",
              "       -118.68, -118.67, -118.66, -118.65, -118.64, -118.63, -118.62,\n",
              "       -118.61, -118.6 , -118.59, -118.58, -118.57, -118.56, -118.55,\n",
              "       -118.54, -118.53, -118.52, -118.51, -118.5 , -118.49, -118.48,\n",
              "       -118.47, -118.46, -118.45, -118.44, -118.43, -118.42, -118.41,\n",
              "       -118.4 , -118.39, -118.38, -118.37, -118.36, -118.35, -118.34,\n",
              "       -118.33, -118.32, -118.31, -118.3 , -118.29, -118.28, -118.27,\n",
              "       -118.26, -118.25, -118.24, -118.23, -118.22, -118.21, -118.2 ,\n",
              "       -118.19, -118.18, -118.17, -118.16, -118.15, -118.14, -118.13,\n",
              "       -118.12, -118.11, -118.1 , -118.09, -118.08, -118.07, -118.06,\n",
              "       -118.05, -118.04, -118.03, -118.02, -118.01, -118.  , -117.99,\n",
              "       -117.98, -117.97, -117.96, -117.95, -117.94, -117.93, -117.92,\n",
              "       -117.91, -117.9 , -117.89, -117.88, -117.87, -117.86, -117.85,\n",
              "       -117.84, -117.83, -117.82, -117.81, -117.8 , -117.79, -117.78,\n",
              "       -117.77, -117.76, -117.75, -117.74, -117.73, -117.72, -117.71,\n",
              "       -117.7 , -117.69, -117.68, -117.67, -117.66, -117.65, -117.64,\n",
              "       -117.63, -117.62, -117.61, -117.6 , -117.59, -117.58, -117.57,\n",
              "       -117.56, -117.55, -117.54, -117.53, -117.52, -117.51, -117.5 ,\n",
              "       -117.49, -117.48, -117.47, -117.46, -117.45, -117.44, -117.43,\n",
              "       -117.42, -117.41, -117.4 , -117.39, -117.38, -117.37, -117.36,\n",
              "       -117.35, -117.34, -117.33, -117.32, -117.31, -117.3 , -117.29,\n",
              "       -117.28, -117.27, -117.26, -117.25, -117.24, -117.23, -117.22,\n",
              "       -117.21, -117.2 , -117.19, -117.18, -117.17, -117.16, -117.15,\n",
              "       -117.14, -117.13, -117.12, -117.11, -117.1 , -117.09, -117.08,\n",
              "       -117.07, -117.06, -117.05, -117.04, -117.03, -117.02, -117.01,\n",
              "       -117.  , -116.99, -116.98, -116.97, -116.96, -116.95, -116.94,\n",
              "       -116.93, -116.92, -116.91, -116.9 , -116.89, -116.88, -116.87,\n",
              "       -116.86, -116.85, -116.84, -116.83, -116.82, -116.8 , -116.79,\n",
              "       -116.78, -116.77, -116.76, -116.75, -116.74, -116.72, -116.71,\n",
              "       -116.68, -116.67, -116.66, -116.62, -116.61, -116.6 , -116.58,\n",
              "       -116.57, -116.56, -116.55, -116.54, -116.53, -116.52, -116.51,\n",
              "       -116.5 , -116.49, -116.48, -116.47, -116.46, -116.45, -116.44,\n",
              "       -116.43, -116.42, -116.41, -116.4 , -116.39, -116.38, -116.37,\n",
              "       -116.36, -116.35, -116.34, -116.33, -116.32, -116.31, -116.3 ,\n",
              "       -116.29, -116.27, -116.26, -116.25, -116.24, -116.23, -116.22,\n",
              "       -116.21, -116.2 , -116.19, -116.18, -116.17, -116.16, -116.15,\n",
              "       -116.14, -116.12, -116.11, -116.09, -116.08, -116.06, -116.05,\n",
              "       -116.02, -116.01, -116.  , -115.99, -115.98, -115.96, -115.95,\n",
              "       -115.94, -115.93, -115.91, -115.9 , -115.88, -115.85, -115.84,\n",
              "       -115.8 , -115.73, -115.72, -115.69, -115.64, -115.62, -115.6 ,\n",
              "       -115.59, -115.58, -115.57, -115.56, -115.55, -115.54, -115.53,\n",
              "       -115.52, -115.51, -115.5 , -115.49, -115.48, -115.46, -115.41,\n",
              "       -115.4 , -115.39, -115.38, -115.37, -115.32, -115.22, -114.98,\n",
              "       -114.94, -114.73, -114.68, -114.67, -114.66, -114.65, -114.63,\n",
              "       -114.61, -114.6 , -114.59, -114.58, -114.57, -114.56, -114.47,\n",
              "       -114.31])"
            ]
          },
          "metadata": {},
          "execution_count": 18
        }
      ]
    },
    {
      "cell_type": "code",
      "source": [
        "# if categorical - median\n",
        "# if numerical - mean, ffil, bfil, KNN, Iterative (KNN Imputer)\n",
        "def FillMissing(data):\n",
        "    cols = list(data.columns)\n",
        "    categorical_cols = []\n",
        "    numerical_cols = []\n",
        "    for col in cols:\n",
        "        n_unique = np.unique(data[col]) # find categories\n",
        "        if len(n_unique) < 15:\n",
        "             categorical_cols.append(col)\n",
        "    print(categorical_cols, numerical_cols)\n",
        "    temp_data = data[categorical_cols].fillna(value = data[categorical_cols].median())\n",
        "    data.loc[:,  numerical_cols] = temp_data.values\n",
        "    #KNN Imputer\n",
        "    imputer = KNNImputer()\n",
        "    imputer.fit(data[numerical_cols])\n",
        "    data.loc[:,  numerical_cols] = imputer.transform(data[numerical_cols])\n",
        "    return data"
      ],
      "metadata": {
        "id": "_XBu2akEYR_O"
      },
      "execution_count": null,
      "outputs": []
    },
    {
      "cell_type": "code",
      "source": [
        "data['total_bedrooms'].value_counts()"
      ],
      "metadata": {
        "colab": {
          "base_uri": "https://localhost:8080/"
        },
        "id": "qIXRpkBRZHLk",
        "outputId": "f555ed0c-11cf-4a81-d115-cdda296e01cb"
      },
      "execution_count": null,
      "outputs": [
        {
          "output_type": "execute_result",
          "data": {
            "text/plain": [
              "280.0     48\n",
              "309.0     44\n",
              "331.0     43\n",
              "394.0     43\n",
              "345.0     43\n",
              "          ..\n",
              "2405.0     1\n",
              "1797.0     1\n",
              "1024.0     1\n",
              "1494.0     1\n",
              "936.0      1\n",
              "Name: total_bedrooms, Length: 1848, dtype: int64"
            ]
          },
          "metadata": {},
          "execution_count": 21
        }
      ]
    },
    {
      "cell_type": "code",
      "source": [
        "data['latitude'].value_counts()"
      ],
      "metadata": {
        "colab": {
          "base_uri": "https://localhost:8080/"
        },
        "id": "a_hmvSo1ZcnN",
        "outputId": "be8d3669-ee9c-4e51-ac49-27cd79ed61ff"
      },
      "execution_count": null,
      "outputs": [
        {
          "output_type": "execute_result",
          "data": {
            "text/plain": [
              "34.06    205\n",
              "34.08    200\n",
              "34.05    196\n",
              "34.07    194\n",
              "34.04    188\n",
              "        ... \n",
              "39.96      1\n",
              "41.50      1\n",
              "39.38      1\n",
              "35.91      1\n",
              "41.84      1\n",
              "Name: latitude, Length: 840, dtype: int64"
            ]
          },
          "metadata": {},
          "execution_count": 22
        }
      ]
    },
    {
      "cell_type": "code",
      "source": [
        "data['median_house_value'].value_counts()"
      ],
      "metadata": {
        "colab": {
          "base_uri": "https://localhost:8080/"
        },
        "id": "VWfW-pnWdZNO",
        "outputId": "f30f0147-6708-4f5f-c6ef-de12b2c12479"
      },
      "execution_count": null,
      "outputs": [
        {
          "output_type": "execute_result",
          "data": {
            "text/plain": [
              "500001.0    814\n",
              "137500.0     95\n",
              "162500.0     89\n",
              "112500.0     85\n",
              "187500.0     74\n",
              "           ... \n",
              "316600.0      1\n",
              "391300.0      1\n",
              "392200.0      1\n",
              "328200.0      1\n",
              "80500.0       1\n",
              "Name: median_house_value, Length: 3694, dtype: int64"
            ]
          },
          "metadata": {},
          "execution_count": 26
        }
      ]
    },
    {
      "cell_type": "code",
      "source": [
        "data['households'].value_counts()"
      ],
      "metadata": {
        "colab": {
          "base_uri": "https://localhost:8080/"
        },
        "id": "xZKazGNPdj9Z",
        "outputId": "d3ed3229-fc60-4173-9728-09e717db21f9"
      },
      "execution_count": null,
      "outputs": [
        {
          "output_type": "execute_result",
          "data": {
            "text/plain": [
              "306.0     48\n",
              "386.0     48\n",
              "282.0     47\n",
              "330.0     46\n",
              "426.0     45\n",
              "          ..\n",
              "3671.0     1\n",
              "1437.0     1\n",
              "2731.0     1\n",
              "1129.0     1\n",
              "992.0      1\n",
              "Name: households, Length: 1740, dtype: int64"
            ]
          },
          "metadata": {},
          "execution_count": 27
        }
      ]
    },
    {
      "cell_type": "code",
      "source": [
        "Le = LabelEncoder()\n",
        "data['longitude'] = Le.fit_transform(data['median_house_value'])"
      ],
      "metadata": {
        "id": "mG6UIVRVeEyw"
      },
      "execution_count": null,
      "outputs": []
    },
    {
      "cell_type": "code",
      "source": [
        "data.head()"
      ],
      "metadata": {
        "colab": {
          "base_uri": "https://localhost:8080/",
          "height": 270
        },
        "id": "PrA2OBxyfh99",
        "outputId": "4d04fab0-150f-4e9b-f1dd-e22885b480e3"
      },
      "execution_count": null,
      "outputs": [
        {
          "output_type": "execute_result",
          "data": {
            "text/plain": [
              "   longitude  latitude  housing_median_age  total_bedrooms  households  \\\n",
              "0        246     34.19                15.0          1283.0       472.0   \n",
              "1        376     34.40                19.0          1901.0       463.0   \n",
              "2        432     33.69                17.0           174.0       117.0   \n",
              "3        310     33.64                14.0           337.0       226.0   \n",
              "4        233     33.57                20.0           326.0       262.0   \n",
              "\n",
              "   median_income  median_house_value  \n",
              "0         1.4936             66900.0  \n",
              "1         1.8200             80100.0  \n",
              "2         1.6509             85700.0  \n",
              "3         3.1917             73400.0  \n",
              "4         1.9250             65500.0  "
            ],
            "text/html": [
              "\n",
              "  <div id=\"df-55e61a4b-6e0f-4a2a-91b1-e3f2d08595b6\">\n",
              "    <div class=\"colab-df-container\">\n",
              "      <div>\n",
              "<style scoped>\n",
              "    .dataframe tbody tr th:only-of-type {\n",
              "        vertical-align: middle;\n",
              "    }\n",
              "\n",
              "    .dataframe tbody tr th {\n",
              "        vertical-align: top;\n",
              "    }\n",
              "\n",
              "    .dataframe thead th {\n",
              "        text-align: right;\n",
              "    }\n",
              "</style>\n",
              "<table border=\"1\" class=\"dataframe\">\n",
              "  <thead>\n",
              "    <tr style=\"text-align: right;\">\n",
              "      <th></th>\n",
              "      <th>longitude</th>\n",
              "      <th>latitude</th>\n",
              "      <th>housing_median_age</th>\n",
              "      <th>total_bedrooms</th>\n",
              "      <th>households</th>\n",
              "      <th>median_income</th>\n",
              "      <th>median_house_value</th>\n",
              "    </tr>\n",
              "  </thead>\n",
              "  <tbody>\n",
              "    <tr>\n",
              "      <th>0</th>\n",
              "      <td>246</td>\n",
              "      <td>34.19</td>\n",
              "      <td>15.0</td>\n",
              "      <td>1283.0</td>\n",
              "      <td>472.0</td>\n",
              "      <td>1.4936</td>\n",
              "      <td>66900.0</td>\n",
              "    </tr>\n",
              "    <tr>\n",
              "      <th>1</th>\n",
              "      <td>376</td>\n",
              "      <td>34.40</td>\n",
              "      <td>19.0</td>\n",
              "      <td>1901.0</td>\n",
              "      <td>463.0</td>\n",
              "      <td>1.8200</td>\n",
              "      <td>80100.0</td>\n",
              "    </tr>\n",
              "    <tr>\n",
              "      <th>2</th>\n",
              "      <td>432</td>\n",
              "      <td>33.69</td>\n",
              "      <td>17.0</td>\n",
              "      <td>174.0</td>\n",
              "      <td>117.0</td>\n",
              "      <td>1.6509</td>\n",
              "      <td>85700.0</td>\n",
              "    </tr>\n",
              "    <tr>\n",
              "      <th>3</th>\n",
              "      <td>310</td>\n",
              "      <td>33.64</td>\n",
              "      <td>14.0</td>\n",
              "      <td>337.0</td>\n",
              "      <td>226.0</td>\n",
              "      <td>3.1917</td>\n",
              "      <td>73400.0</td>\n",
              "    </tr>\n",
              "    <tr>\n",
              "      <th>4</th>\n",
              "      <td>233</td>\n",
              "      <td>33.57</td>\n",
              "      <td>20.0</td>\n",
              "      <td>326.0</td>\n",
              "      <td>262.0</td>\n",
              "      <td>1.9250</td>\n",
              "      <td>65500.0</td>\n",
              "    </tr>\n",
              "  </tbody>\n",
              "</table>\n",
              "</div>\n",
              "      <button class=\"colab-df-convert\" onclick=\"convertToInteractive('df-55e61a4b-6e0f-4a2a-91b1-e3f2d08595b6')\"\n",
              "              title=\"Convert this dataframe to an interactive table.\"\n",
              "              style=\"display:none;\">\n",
              "        \n",
              "  <svg xmlns=\"http://www.w3.org/2000/svg\" height=\"24px\"viewBox=\"0 0 24 24\"\n",
              "       width=\"24px\">\n",
              "    <path d=\"M0 0h24v24H0V0z\" fill=\"none\"/>\n",
              "    <path d=\"M18.56 5.44l.94 2.06.94-2.06 2.06-.94-2.06-.94-.94-2.06-.94 2.06-2.06.94zm-11 1L8.5 8.5l.94-2.06 2.06-.94-2.06-.94L8.5 2.5l-.94 2.06-2.06.94zm10 10l.94 2.06.94-2.06 2.06-.94-2.06-.94-.94-2.06-.94 2.06-2.06.94z\"/><path d=\"M17.41 7.96l-1.37-1.37c-.4-.4-.92-.59-1.43-.59-.52 0-1.04.2-1.43.59L10.3 9.45l-7.72 7.72c-.78.78-.78 2.05 0 2.83L4 21.41c.39.39.9.59 1.41.59.51 0 1.02-.2 1.41-.59l7.78-7.78 2.81-2.81c.8-.78.8-2.07 0-2.86zM5.41 20L4 18.59l7.72-7.72 1.47 1.35L5.41 20z\"/>\n",
              "  </svg>\n",
              "      </button>\n",
              "      \n",
              "  <style>\n",
              "    .colab-df-container {\n",
              "      display:flex;\n",
              "      flex-wrap:wrap;\n",
              "      gap: 12px;\n",
              "    }\n",
              "\n",
              "    .colab-df-convert {\n",
              "      background-color: #E8F0FE;\n",
              "      border: none;\n",
              "      border-radius: 50%;\n",
              "      cursor: pointer;\n",
              "      display: none;\n",
              "      fill: #1967D2;\n",
              "      height: 32px;\n",
              "      padding: 0 0 0 0;\n",
              "      width: 32px;\n",
              "    }\n",
              "\n",
              "    .colab-df-convert:hover {\n",
              "      background-color: #E2EBFA;\n",
              "      box-shadow: 0px 1px 2px rgba(60, 64, 67, 0.3), 0px 1px 3px 1px rgba(60, 64, 67, 0.15);\n",
              "      fill: #174EA6;\n",
              "    }\n",
              "\n",
              "    [theme=dark] .colab-df-convert {\n",
              "      background-color: #3B4455;\n",
              "      fill: #D2E3FC;\n",
              "    }\n",
              "\n",
              "    [theme=dark] .colab-df-convert:hover {\n",
              "      background-color: #434B5C;\n",
              "      box-shadow: 0px 1px 3px 1px rgba(0, 0, 0, 0.15);\n",
              "      filter: drop-shadow(0px 1px 2px rgba(0, 0, 0, 0.3));\n",
              "      fill: #FFFFFF;\n",
              "    }\n",
              "  </style>\n",
              "\n",
              "      <script>\n",
              "        const buttonEl =\n",
              "          document.querySelector('#df-55e61a4b-6e0f-4a2a-91b1-e3f2d08595b6 button.colab-df-convert');\n",
              "        buttonEl.style.display =\n",
              "          google.colab.kernel.accessAllowed ? 'block' : 'none';\n",
              "\n",
              "        async function convertToInteractive(key) {\n",
              "          const element = document.querySelector('#df-55e61a4b-6e0f-4a2a-91b1-e3f2d08595b6');\n",
              "          const dataTable =\n",
              "            await google.colab.kernel.invokeFunction('convertToInteractive',\n",
              "                                                     [key], {});\n",
              "          if (!dataTable) return;\n",
              "\n",
              "          const docLinkHtml = 'Like what you see? Visit the ' +\n",
              "            '<a target=\"_blank\" href=https://colab.research.google.com/notebooks/data_table.ipynb>data table notebook</a>'\n",
              "            + ' to learn more about interactive tables.';\n",
              "          element.innerHTML = '';\n",
              "          dataTable['output_type'] = 'display_data';\n",
              "          await google.colab.output.renderOutput(dataTable, element);\n",
              "          const docLink = document.createElement('div');\n",
              "          docLink.innerHTML = docLinkHtml;\n",
              "          element.appendChild(docLink);\n",
              "        }\n",
              "      </script>\n",
              "    </div>\n",
              "  </div>\n",
              "  "
            ]
          },
          "metadata": {},
          "execution_count": 30
        }
      ]
    },
    {
      "cell_type": "code",
      "source": [
        "def GetOutlierLocations(data, threshold = 5):\n",
        "    mean_ = data.mean()\n",
        "    std_ = data.std()\n",
        "    threshold_high, threshold_low = mean_ + threshold*std_, mean_ - threshold*std_\n",
        "    outliers_above, outliers_below = data > threshold_high, data < threshold_low\n",
        "    plt.plot(data)\n",
        "    plt.plot([threshold_high]*data.shape[0])\n",
        "    plt.plot([threshold_low]*data.shape[0])\n",
        "    plt.show()\n",
        "    return np.where(np.logical_or(outliers_above, outliers_below))[0]\n",
        "    "
      ],
      "metadata": {
        "id": "3VUJcslCflFF"
      },
      "execution_count": null,
      "outputs": []
    },
    {
      "cell_type": "code",
      "source": [
        "check_outliers = ['households', 'housing_median_age']\n",
        "for check_out in check_outliers:\n",
        "locs = GetOutlierLocations(data[check_out])\n",
        "print(f' {len(locs)} Outliers Found in [check_out] column')\n",
        "data.loc[locs,check_out] = np.nan"
      ],
      "metadata": {
        "colab": {
          "base_uri": "https://localhost:8080/",
          "height": 131
        },
        "id": "qy6T0Ix1hyZU",
        "outputId": "a0d94180-e487-4733-f1a7-c8c49883985c"
      },
      "execution_count": null,
      "outputs": [
        {
          "output_type": "error",
          "ename": "IndentationError",
          "evalue": "ignored",
          "traceback": [
            "\u001b[0;36m  File \u001b[0;32m\"<ipython-input-38-ef63ae78a476>\"\u001b[0;36m, line \u001b[0;32m3\u001b[0m\n\u001b[0;31m    locs = GetOutlierLocations(data[check_out])\u001b[0m\n\u001b[0m       ^\u001b[0m\n\u001b[0;31mIndentationError\u001b[0m\u001b[0;31m:\u001b[0m expected an indented block\n"
          ]
        }
      ]
    },
    {
      "cell_type": "code",
      "source": [
        "cols_for_ohe = ['households']\n",
        "cols_for_scaler = ['latitude', 'housing_median_age']\n",
        "\n",
        "cols_transformer = make_column_transformer(\n",
        "    (KNNImputer(), list(data.columns)), # Filling Outliers\n",
        "    (OneHotEncoder(), cols_for_ohe),\n",
        "    remainder = 'passthrough'\n",
        ")   \n",
        "\n"
      ],
      "metadata": {
        "id": "zGZyMi6vkZ9J"
      },
      "execution_count": null,
      "outputs": []
    },
    {
      "cell_type": "code",
      "source": [
        "# scale\n",
        "cols_for_scaler = ['latitude', 'housing_median_age']\n",
        "Scaler = StandardScaler()\n",
        "Scaler.fit(data[cols_for_scaler])\n",
        "data.loc[:, cols_for_scaler] = Scaler.transform(data[cols_for_scaler])\n"
      ],
      "metadata": {
        "id": "6vvtixUan-uh"
      },
      "execution_count": null,
      "outputs": []
    },
    {
      "cell_type": "code",
      "source": [
        "cols_transformer.fit(data)"
      ],
      "metadata": {
        "colab": {
          "base_uri": "https://localhost:8080/"
        },
        "id": "dqOMvlBPlvtH",
        "outputId": "0ad98222-39ac-4df2-ffb9-807328cdf8a2"
      },
      "execution_count": null,
      "outputs": [
        {
          "output_type": "execute_result",
          "data": {
            "text/plain": [
              "ColumnTransformer(remainder='passthrough',\n",
              "                  transformers=[('knnimputer', KNNImputer(),\n",
              "                                 ['longitude', 'latitude', 'housing_median_age',\n",
              "                                  'total_bedrooms', 'households',\n",
              "                                  'median_income', 'median_house_value']),\n",
              "                                ('onehotencoder', OneHotEncoder(),\n",
              "                                 ['households']),\n",
              "                                ('standardscaler', StandardScaler(),\n",
              "                                 ['latitude', 'housing_median_age'])])"
            ]
          },
          "metadata": {},
          "execution_count": 43
        }
      ]
    },
    {
      "cell_type": "code",
      "source": [
        "transformed_data = cols_transformer.transform(data)"
      ],
      "metadata": {
        "id": "7LNAFJjvmNQS"
      },
      "execution_count": null,
      "outputs": []
    },
    {
      "cell_type": "code",
      "source": [
        "pd.DataFrame(transformed_data)"
      ],
      "metadata": {
        "colab": {
          "base_uri": "https://localhost:8080/",
          "height": 424
        },
        "id": "EvwffCLlmYH1",
        "outputId": "5be1a6e7-c250-4f2f-964a-503d138e4b69"
      },
      "execution_count": null,
      "outputs": [
        {
          "output_type": "execute_result",
          "data": {
            "text/plain": [
              "                                                       0\n",
              "0        (0, 0)\\t246.0\\n  (0, 1)\\t34.19\\n  (0, 2)\\t15...\n",
              "1        (0, 0)\\t376.0\\n  (0, 1)\\t34.4\\n  (0, 2)\\t19....\n",
              "2        (0, 0)\\t432.0\\n  (0, 1)\\t33.69\\n  (0, 2)\\t17...\n",
              "3        (0, 0)\\t310.0\\n  (0, 1)\\t33.64\\n  (0, 2)\\t14...\n",
              "4        (0, 0)\\t233.0\\n  (0, 1)\\t33.57\\n  (0, 2)\\t20...\n",
              "...                                                  ...\n",
              "16995    (0, 0)\\t688.0\\n  (0, 1)\\t40.58\\n  (0, 2)\\t52...\n",
              "16996    (0, 0)\\t365.0\\n  (0, 1)\\t40.69\\n  (0, 2)\\t36...\n",
              "16997    (0, 0)\\t611.0\\n  (0, 1)\\t41.84\\n  (0, 2)\\t17...\n",
              "16998    (0, 0)\\t433.0\\n  (0, 1)\\t41.8\\n  (0, 2)\\t19....\n",
              "16999    (0, 0)\\t521.0\\n  (0, 1)\\t40.54\\n  (0, 2)\\t52...\n",
              "\n",
              "[17000 rows x 1 columns]"
            ],
            "text/html": [
              "\n",
              "  <div id=\"df-c8d792db-4746-423e-95c8-391c646b699b\">\n",
              "    <div class=\"colab-df-container\">\n",
              "      <div>\n",
              "<style scoped>\n",
              "    .dataframe tbody tr th:only-of-type {\n",
              "        vertical-align: middle;\n",
              "    }\n",
              "\n",
              "    .dataframe tbody tr th {\n",
              "        vertical-align: top;\n",
              "    }\n",
              "\n",
              "    .dataframe thead th {\n",
              "        text-align: right;\n",
              "    }\n",
              "</style>\n",
              "<table border=\"1\" class=\"dataframe\">\n",
              "  <thead>\n",
              "    <tr style=\"text-align: right;\">\n",
              "      <th></th>\n",
              "      <th>0</th>\n",
              "    </tr>\n",
              "  </thead>\n",
              "  <tbody>\n",
              "    <tr>\n",
              "      <th>0</th>\n",
              "      <td>(0, 0)\\t246.0\\n  (0, 1)\\t34.19\\n  (0, 2)\\t15...</td>\n",
              "    </tr>\n",
              "    <tr>\n",
              "      <th>1</th>\n",
              "      <td>(0, 0)\\t376.0\\n  (0, 1)\\t34.4\\n  (0, 2)\\t19....</td>\n",
              "    </tr>\n",
              "    <tr>\n",
              "      <th>2</th>\n",
              "      <td>(0, 0)\\t432.0\\n  (0, 1)\\t33.69\\n  (0, 2)\\t17...</td>\n",
              "    </tr>\n",
              "    <tr>\n",
              "      <th>3</th>\n",
              "      <td>(0, 0)\\t310.0\\n  (0, 1)\\t33.64\\n  (0, 2)\\t14...</td>\n",
              "    </tr>\n",
              "    <tr>\n",
              "      <th>4</th>\n",
              "      <td>(0, 0)\\t233.0\\n  (0, 1)\\t33.57\\n  (0, 2)\\t20...</td>\n",
              "    </tr>\n",
              "    <tr>\n",
              "      <th>...</th>\n",
              "      <td>...</td>\n",
              "    </tr>\n",
              "    <tr>\n",
              "      <th>16995</th>\n",
              "      <td>(0, 0)\\t688.0\\n  (0, 1)\\t40.58\\n  (0, 2)\\t52...</td>\n",
              "    </tr>\n",
              "    <tr>\n",
              "      <th>16996</th>\n",
              "      <td>(0, 0)\\t365.0\\n  (0, 1)\\t40.69\\n  (0, 2)\\t36...</td>\n",
              "    </tr>\n",
              "    <tr>\n",
              "      <th>16997</th>\n",
              "      <td>(0, 0)\\t611.0\\n  (0, 1)\\t41.84\\n  (0, 2)\\t17...</td>\n",
              "    </tr>\n",
              "    <tr>\n",
              "      <th>16998</th>\n",
              "      <td>(0, 0)\\t433.0\\n  (0, 1)\\t41.8\\n  (0, 2)\\t19....</td>\n",
              "    </tr>\n",
              "    <tr>\n",
              "      <th>16999</th>\n",
              "      <td>(0, 0)\\t521.0\\n  (0, 1)\\t40.54\\n  (0, 2)\\t52...</td>\n",
              "    </tr>\n",
              "  </tbody>\n",
              "</table>\n",
              "<p>17000 rows × 1 columns</p>\n",
              "</div>\n",
              "      <button class=\"colab-df-convert\" onclick=\"convertToInteractive('df-c8d792db-4746-423e-95c8-391c646b699b')\"\n",
              "              title=\"Convert this dataframe to an interactive table.\"\n",
              "              style=\"display:none;\">\n",
              "        \n",
              "  <svg xmlns=\"http://www.w3.org/2000/svg\" height=\"24px\"viewBox=\"0 0 24 24\"\n",
              "       width=\"24px\">\n",
              "    <path d=\"M0 0h24v24H0V0z\" fill=\"none\"/>\n",
              "    <path d=\"M18.56 5.44l.94 2.06.94-2.06 2.06-.94-2.06-.94-.94-2.06-.94 2.06-2.06.94zm-11 1L8.5 8.5l.94-2.06 2.06-.94-2.06-.94L8.5 2.5l-.94 2.06-2.06.94zm10 10l.94 2.06.94-2.06 2.06-.94-2.06-.94-.94-2.06-.94 2.06-2.06.94z\"/><path d=\"M17.41 7.96l-1.37-1.37c-.4-.4-.92-.59-1.43-.59-.52 0-1.04.2-1.43.59L10.3 9.45l-7.72 7.72c-.78.78-.78 2.05 0 2.83L4 21.41c.39.39.9.59 1.41.59.51 0 1.02-.2 1.41-.59l7.78-7.78 2.81-2.81c.8-.78.8-2.07 0-2.86zM5.41 20L4 18.59l7.72-7.72 1.47 1.35L5.41 20z\"/>\n",
              "  </svg>\n",
              "      </button>\n",
              "      \n",
              "  <style>\n",
              "    .colab-df-container {\n",
              "      display:flex;\n",
              "      flex-wrap:wrap;\n",
              "      gap: 12px;\n",
              "    }\n",
              "\n",
              "    .colab-df-convert {\n",
              "      background-color: #E8F0FE;\n",
              "      border: none;\n",
              "      border-radius: 50%;\n",
              "      cursor: pointer;\n",
              "      display: none;\n",
              "      fill: #1967D2;\n",
              "      height: 32px;\n",
              "      padding: 0 0 0 0;\n",
              "      width: 32px;\n",
              "    }\n",
              "\n",
              "    .colab-df-convert:hover {\n",
              "      background-color: #E2EBFA;\n",
              "      box-shadow: 0px 1px 2px rgba(60, 64, 67, 0.3), 0px 1px 3px 1px rgba(60, 64, 67, 0.15);\n",
              "      fill: #174EA6;\n",
              "    }\n",
              "\n",
              "    [theme=dark] .colab-df-convert {\n",
              "      background-color: #3B4455;\n",
              "      fill: #D2E3FC;\n",
              "    }\n",
              "\n",
              "    [theme=dark] .colab-df-convert:hover {\n",
              "      background-color: #434B5C;\n",
              "      box-shadow: 0px 1px 3px 1px rgba(0, 0, 0, 0.15);\n",
              "      filter: drop-shadow(0px 1px 2px rgba(0, 0, 0, 0.3));\n",
              "      fill: #FFFFFF;\n",
              "    }\n",
              "  </style>\n",
              "\n",
              "      <script>\n",
              "        const buttonEl =\n",
              "          document.querySelector('#df-c8d792db-4746-423e-95c8-391c646b699b button.colab-df-convert');\n",
              "        buttonEl.style.display =\n",
              "          google.colab.kernel.accessAllowed ? 'block' : 'none';\n",
              "\n",
              "        async function convertToInteractive(key) {\n",
              "          const element = document.querySelector('#df-c8d792db-4746-423e-95c8-391c646b699b');\n",
              "          const dataTable =\n",
              "            await google.colab.kernel.invokeFunction('convertToInteractive',\n",
              "                                                     [key], {});\n",
              "          if (!dataTable) return;\n",
              "\n",
              "          const docLinkHtml = 'Like what you see? Visit the ' +\n",
              "            '<a target=\"_blank\" href=https://colab.research.google.com/notebooks/data_table.ipynb>data table notebook</a>'\n",
              "            + ' to learn more about interactive tables.';\n",
              "          element.innerHTML = '';\n",
              "          dataTable['output_type'] = 'display_data';\n",
              "          await google.colab.output.renderOutput(dataTable, element);\n",
              "          const docLink = document.createElement('div');\n",
              "          docLink.innerHTML = docLinkHtml;\n",
              "          element.appendChild(docLink);\n",
              "        }\n",
              "      </script>\n",
              "    </div>\n",
              "  </div>\n",
              "  "
            ]
          },
          "metadata": {},
          "execution_count": 45
        }
      ]
    },
    {
      "cell_type": "code",
      "source": [
        ""
      ],
      "metadata": {
        "id": "pvldib_QnxZD"
      },
      "execution_count": null,
      "outputs": []
    }
  ]
}