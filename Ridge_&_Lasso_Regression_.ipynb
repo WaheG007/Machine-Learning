{
  "nbformat": 4,
  "nbformat_minor": 0,
  "metadata": {
    "colab": {
      "name": "Ridge & Lasso Regression .ipynb",
      "provenance": []
    },
    "kernelspec": {
      "name": "python3",
      "display_name": "Python 3"
    },
    "language_info": {
      "name": "python"
    }
  },
  "cells": [
    {
      "cell_type": "code",
      "source": [
        "import pandas as pd\n",
        "\n",
        "from sklearn.linear_model import LinearRegression\n",
        "\n",
        "from sklearn.linear_model import Ridge\n",
        "\n",
        "from sklearn.linear_model import Lasso\n",
        "\n",
        "df = pd.read_csv('/content/sample_data/california_housing_train.csv')\n",
        "\n",
        "print(df)\n",
        "\n"
      ],
      "metadata": {
        "colab": {
          "base_uri": "https://localhost:8080/"
        },
        "id": "ZsneWIiv86u1",
        "outputId": "28afbd92-b822-4057-b31e-1dd192dc5405"
      },
      "execution_count": null,
      "outputs": [
        {
          "output_type": "stream",
          "name": "stdout",
          "text": [
            "       longitude  latitude  housing_median_age  total_rooms  total_bedrooms  \\\n",
            "0        -114.31     34.19                15.0       5612.0          1283.0   \n",
            "1        -114.47     34.40                19.0       7650.0          1901.0   \n",
            "2        -114.56     33.69                17.0        720.0           174.0   \n",
            "3        -114.57     33.64                14.0       1501.0           337.0   \n",
            "4        -114.57     33.57                20.0       1454.0           326.0   \n",
            "...          ...       ...                 ...          ...             ...   \n",
            "16995    -124.26     40.58                52.0       2217.0           394.0   \n",
            "16996    -124.27     40.69                36.0       2349.0           528.0   \n",
            "16997    -124.30     41.84                17.0       2677.0           531.0   \n",
            "16998    -124.30     41.80                19.0       2672.0           552.0   \n",
            "16999    -124.35     40.54                52.0       1820.0           300.0   \n",
            "\n",
            "       population  households  median_income  median_house_value  \n",
            "0          1015.0       472.0         1.4936             66900.0  \n",
            "1          1129.0       463.0         1.8200             80100.0  \n",
            "2           333.0       117.0         1.6509             85700.0  \n",
            "3           515.0       226.0         3.1917             73400.0  \n",
            "4           624.0       262.0         1.9250             65500.0  \n",
            "...           ...         ...            ...                 ...  \n",
            "16995       907.0       369.0         2.3571            111400.0  \n",
            "16996      1194.0       465.0         2.5179             79000.0  \n",
            "16997      1244.0       456.0         3.0313            103600.0  \n",
            "16998      1298.0       478.0         1.9797             85800.0  \n",
            "16999       806.0       270.0         3.0147             94600.0  \n",
            "\n",
            "[17000 rows x 9 columns]\n"
          ]
        }
      ]
    },
    {
      "cell_type": "code",
      "source": [
        "print(df.shape)\n",
        "\n",
        "print(df.isnull().sum())"
      ],
      "metadata": {
        "colab": {
          "base_uri": "https://localhost:8080/"
        },
        "id": "eSfNAkL89NRs",
        "outputId": "97f14c1c-cb5a-46ea-907a-25168976b034"
      },
      "execution_count": null,
      "outputs": [
        {
          "output_type": "stream",
          "name": "stdout",
          "text": [
            "(17000, 9)\n",
            "longitude             0\n",
            "latitude              0\n",
            "housing_median_age    0\n",
            "total_rooms           0\n",
            "total_bedrooms        0\n",
            "population            0\n",
            "households            0\n",
            "median_income         0\n",
            "median_house_value    0\n",
            "dtype: int64\n"
          ]
        }
      ]
    },
    {
      "cell_type": "code",
      "source": [
        "X = df.drop('total_rooms', axis=1)\n",
        "\n",
        "y = df['total_rooms']\n",
        "\n",
        "from sklearn import preprocessing\n",
        "\n",
        "X = preprocessing.scale(X)\n",
        "\n",
        "y = preprocessing.scale(y)\n",
        "\n",
        "from sklearn.model_selection import train_test_split\n",
        "\n",
        "X_train, X_test, y_train, y_test = train_test_split(X, y, test_size=0.30, random_state=1)\n",
        "\n",
        "print(X_train.shape)\n",
        "\n",
        "print(y_train.shape)\n",
        "\n",
        "print(X_test.shape)\n",
        "\n",
        "print(y_test.shape)"
      ],
      "metadata": {
        "colab": {
          "base_uri": "https://localhost:8080/"
        },
        "id": "44YEMF_79Uyu",
        "outputId": "42f5a954-00e6-49a9-98da-cb8d0d582351"
      },
      "execution_count": null,
      "outputs": [
        {
          "output_type": "stream",
          "name": "stdout",
          "text": [
            "(11900, 8)\n",
            "(11900,)\n",
            "(5100, 8)\n",
            "(5100,)\n"
          ]
        }
      ]
    },
    {
      "cell_type": "code",
      "source": [
        "regression_model = LinearRegression()\n",
        "\n",
        "regression_model.fit(X_train, y_train)\n",
        "\n",
        "ridge = Ridge(alpha=.3)\n",
        "\n",
        "ridge.fit(X_train,y_train)\n",
        "\n",
        "print (\"Ridge model:\", (ridge.coef_))"
      ],
      "metadata": {
        "colab": {
          "base_uri": "https://localhost:8080/"
        },
        "id": "v1ES55Rb9kH8",
        "outputId": "dabb0a4d-8f28-4752-bf40-6d7627d6af06"
      },
      "execution_count": null,
      "outputs": [
        {
          "output_type": "stream",
          "name": "stdout",
          "text": [
            "Ridge model: [ 0.13535519  0.17608982 -0.01663659  0.78824992  0.19160585 -0.03398355\n",
            "  0.24305978 -0.03375008]\n"
          ]
        }
      ]
    },
    {
      "cell_type": "code",
      "source": [
        "lasso = Lasso(alpha=0.1)\n",
        "\n",
        "lasso.fit(X_train,y_train)\n",
        "\n",
        "print (\"Lasso model:\", (lasso.coef_))"
      ],
      "metadata": {
        "colab": {
          "base_uri": "https://localhost:8080/"
        },
        "id": "Nx3KiRzE9nUC",
        "outputId": "4af4d087-b952-4b08-cca7-b6f2dbc24f2d"
      },
      "execution_count": null,
      "outputs": [
        {
          "output_type": "stream",
          "name": "stdout",
          "text": [
            "Lasso model: [-0.          0.         -0.          0.69868469  0.1407501   0.\n",
            "  0.10797972  0.        ]\n"
          ]
        }
      ]
    },
    {
      "cell_type": "code",
      "source": [
        "print(\"Linear Regression Model Training Score: \", regression_model.score(X_train, y_train))\n",
        "\n",
        "print(\"Linear Regression Model Testing Score: \",regression_model.score(X_test, y_test))\n",
        "\n",
        "print(\"Ridge Regression Model Training Score: \",ridge.score(X_train, y_train))\n",
        "\n",
        "print(\"Ridge Regression Model Testing Score: \",ridge.score(X_test, y_test))\n",
        "\n",
        "print(\"Lasso Regression Model Training Score: \",lasso.score(X_train, y_train))\n",
        "\n",
        "print(\"Lasso Regression Model Testing Score: \",lasso.score(X_test, y_test))"
      ],
      "metadata": {
        "colab": {
          "base_uri": "https://localhost:8080/"
        },
        "id": "iRux4IEw9tGn",
        "outputId": "335aac42-b8e0-4734-8548-2bf5dca67fa7"
      },
      "execution_count": null,
      "outputs": [
        {
          "output_type": "stream",
          "name": "stdout",
          "text": [
            "Linear Regression Model Training Score:  0.9198398903390104\n",
            "Linear Regression Model Testing Score:  0.9207116742990872\n",
            "Ridge Regression Model Training Score:  0.9198398757866898\n",
            "Ridge Regression Model Testing Score:  0.9207078005823515\n",
            "Lasso Regression Model Training Score:  0.8909475418668037\n",
            "Lasso Regression Model Testing Score:  0.890366651847891\n"
          ]
        }
      ]
    },
    {
      "cell_type": "code",
      "source": [
        "from sklearn.preprocessing import PolynomialFeatures\n",
        "\n",
        "poly = PolynomialFeatures(degree = 2, interaction_only=True)\n",
        "\n",
        "X_poly = poly.fit_transform(X)\n",
        "\n",
        "X_train, X_test, y_train, y_test = train_test_split(X_poly, y, test_size=0.30, random_state=1)\n",
        "\n",
        "regression_model.fit(X_train, y_train)\n",
        "\n",
        "print(regression_model.coef_[0])"
      ],
      "metadata": {
        "colab": {
          "base_uri": "https://localhost:8080/"
        },
        "id": "9rJt-WXn91sx",
        "outputId": "875a0d35-51e6-48b2-b05f-246fd00215c1"
      },
      "execution_count": null,
      "outputs": [
        {
          "output_type": "stream",
          "name": "stdout",
          "text": [
            "-8.321713487607386e-19\n"
          ]
        }
      ]
    },
    {
      "cell_type": "code",
      "source": [
        "\n",
        "ridge = Ridge(alpha=.3)\n",
        "\n",
        "ridge.fit(X_train,y_train)\n",
        "\n",
        "print (\"Ridge model:\", (ridge.coef_))"
      ],
      "metadata": {
        "colab": {
          "base_uri": "https://localhost:8080/"
        },
        "id": "HG06xp7198MQ",
        "outputId": "1453975e-ba61-4ca4-c937-698c95d9f8f4"
      },
      "execution_count": null,
      "outputs": [
        {
          "output_type": "stream",
          "name": "stdout",
          "text": [
            "Ridge model: [ 0.          0.14688724  0.17894951 -0.00454139  0.64314519  0.09862504\n",
            "  0.17340405  0.29386101 -0.04175514 -0.01463035 -0.00162954  0.14436047\n",
            " -0.04069676  0.02055874  0.02431343 -0.03333419  0.00200553  0.20416687\n",
            "  0.03094441 -0.08596626  0.01266628 -0.01639652 -0.08418793 -0.02589756\n",
            "  0.09260149  0.00739199 -0.01077572  0.10628949 -0.02997612  0.11714185\n",
            " -0.03558512 -0.07619459  0.11330619 -0.00857878  0.03413742 -0.02614372\n",
            " -0.01915457]\n"
          ]
        }
      ]
    },
    {
      "cell_type": "code",
      "source": [
        "lasso = Lasso(alpha=0.003)\n",
        "\n",
        "lasso.fit(X_train,y_train)\n",
        "\n",
        "print (\"Lasso model:\", (lasso.coef_))"
      ],
      "metadata": {
        "colab": {
          "base_uri": "https://localhost:8080/"
        },
        "id": "0hNcnq9z-Cn-",
        "outputId": "98f7bca7-f293-4805-c412-9664461290ea"
      },
      "execution_count": null,
      "outputs": [
        {
          "output_type": "stream",
          "name": "stdout",
          "text": [
            "Lasso model: [ 0.          0.08933936  0.120495   -0.00992286  0.7829846   0.11285435\n",
            "  0.00703889  0.28039327 -0.04052563 -0.00899744 -0.00257311  0.05304996\n",
            "  0.          0.01639436  0.         -0.00417829 -0.          0.04132548\n",
            "  0.04683545  0.         -0.00555137 -0.         -0.0155143  -0.0120785\n",
            " -0.          0.          0.          0.0200702  -0.02127944  0.13455467\n",
            " -0.07028023 -0.          0.11823014 -0.          0.         -0.\n",
            " -0.01527943]\n"
          ]
        }
      ]
    },
    {
      "cell_type": "code",
      "source": [
        "print(\"Linear Regression Model Training Score: \", regression_model.score(X_train, y_train))\n",
        "\n",
        "print(\"Linear Regression Model Testing Score: \",regression_model.score(X_test, y_test))\n",
        "\n",
        "print(\"Ridge Regression Model Training Score: \",ridge.score(X_train, y_train))\n",
        "\n",
        "print(\"Ridge Regression Model Testing Score: \",ridge.score(X_test, y_test))\n",
        "\n",
        "print(\"Lasso Regression Model Training Score: \",lasso.score(X_train, y_train))\n",
        "\n",
        "print(\"Lasso Regression Model Testing Score: \",lasso.score(X_test, y_test))"
      ],
      "metadata": {
        "colab": {
          "base_uri": "https://localhost:8080/"
        },
        "id": "zDay9air-HUY",
        "outputId": "464e11b4-1bac-4db6-ceb1-e083f74d1d43"
      },
      "execution_count": null,
      "outputs": [
        {
          "output_type": "stream",
          "name": "stdout",
          "text": [
            "Linear Regression Model Training Score:  0.97001940579938\n",
            "Linear Regression Model Testing Score:  0.9688008746719851\n",
            "Ridge Regression Model Training Score:  0.9700193899571662\n",
            "Ridge Regression Model Testing Score:  0.9687985429266749\n",
            "Lasso Regression Model Training Score:  0.9683045353294868\n",
            "Lasso Regression Model Testing Score:  0.9688717925164874\n"
          ]
        }
      ]
    }
  ]
}