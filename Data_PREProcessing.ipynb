{
  "nbformat": 4,
  "nbformat_minor": 0,
  "metadata": {
    "colab": {
      "name": "Data PREProcessing.ipynb",
      "provenance": []
    },
    "kernelspec": {
      "name": "python3",
      "display_name": "Python 3"
    },
    "language_info": {
      "name": "python"
    }
  },
  "cells": [
    {
      "cell_type": "code",
      "execution_count": null,
      "metadata": {
        "id": "LnfMhjUzXpHe"
      },
      "outputs": [],
      "source": [
        "import numpy as np\n",
        "import matplotlib.pyplot as plt\n",
        "import pandas as pd\n"
      ]
    },
    {
      "cell_type": "code",
      "source": [
        "Dataset = pd.read_csv(\"/content/sample_data/california_housing_train.csv\")\n",
        "\n",
        "\n",
        "# importing an array of features\n",
        "x = Dataset.iloc[:, :-1].values \n",
        "# importing an array of dependent variable\n",
        "y = Dataset.iloc[:, -1].values"
      ],
      "metadata": {
        "id": "yftT89YaXy8L"
      },
      "execution_count": null,
      "outputs": []
    },
    {
      "cell_type": "markdown",
      "source": [
        "Let’s have a look at our data by executing the code:"
      ],
      "metadata": {
        "id": "csDcdp9qYAYQ"
      }
    },
    {
      "cell_type": "code",
      "source": [
        "print(x) # returns an array of features"
      ],
      "metadata": {
        "colab": {
          "base_uri": "https://localhost:8080/"
        },
        "id": "n0gKu6_hYBL0",
        "outputId": "566533b9-87ff-4f38-c6c4-d3974073ec93"
      },
      "execution_count": null,
      "outputs": [
        {
          "output_type": "stream",
          "name": "stdout",
          "text": [
            "[[-114.31     34.19     15.     ... 1015.      472.        1.4936]\n",
            " [-114.47     34.4      19.     ... 1129.      463.        1.82  ]\n",
            " [-114.56     33.69     17.     ...  333.      117.        1.6509]\n",
            " ...\n",
            " [-124.3      41.84     17.     ... 1244.      456.        3.0313]\n",
            " [-124.3      41.8      19.     ... 1298.      478.        1.9797]\n",
            " [-124.35     40.54     52.     ...  806.      270.        3.0147]]\n"
          ]
        }
      ]
    },
    {
      "cell_type": "code",
      "source": [
        "# Importing the class called SimpleImputer from impute model in sklearn\n",
        "from sklearn.impute import SimpleImputer\n",
        "# To replace the missing value we create below object of SimpleImputer class\n",
        "imputa = SimpleImputer(missing_values = np.nan, strategy = 'mean')\n",
        "''' Using the fit method, we apply the `imputa` object on the matrix of our feature x.\n",
        "The `fit()` method identifies the missing values and computes the mean of such feature a missing value is present.\n",
        "'''\n",
        "imputa.fit(x[:, 1:3])\n",
        "# Repalcing the missing value using transform method\n",
        "x[:, 1:3] = imputa.transform(x[:, 1:3])"
      ],
      "metadata": {
        "id": "wbjxQSi9YmQG"
      },
      "execution_count": null,
      "outputs": []
    },
    {
      "cell_type": "markdown",
      "source": [
        "Upon executing the code, we obtain a matrix of features with the missing values replaced."
      ],
      "metadata": {
        "id": "iHQ-SGgHYrZa"
      }
    },
    {
      "cell_type": "code",
      "source": [
        "print(x)"
      ],
      "metadata": {
        "colab": {
          "base_uri": "https://localhost:8080/"
        },
        "id": "7nciQFJaYsUj",
        "outputId": "0be7798b-6ad2-48af-a125-741ef56e6e07"
      },
      "execution_count": null,
      "outputs": [
        {
          "output_type": "stream",
          "name": "stdout",
          "text": [
            "[[-114.31     34.19     15.     ... 1015.      472.        1.4936]\n",
            " [-114.47     34.4      19.     ... 1129.      463.        1.82  ]\n",
            " [-114.56     33.69     17.     ...  333.      117.        1.6509]\n",
            " ...\n",
            " [-124.3      41.84     17.     ... 1244.      456.        3.0313]\n",
            " [-124.3      41.8      19.     ... 1298.      478.        1.9797]\n",
            " [-124.35     40.54     52.     ...  806.      270.        3.0147]]\n"
          ]
        }
      ]
    },
    {
      "cell_type": "markdown",
      "source": [
        "Let’s see how One-hot encoding enables us to achieve this by executing the code below:"
      ],
      "metadata": {
        "id": "m4OpBDEIY3S5"
      }
    },
    {
      "cell_type": "code",
      "source": [
        "from sklearn.compose import ColumnTransformer\n",
        "from sklearn.preprocessing import OneHotEncoder\n",
        "ct = ColumnTransformer(transformers=[('encoder', OneHotEncoder(), [0])], remainder= 'passthrough')\n",
        "x = np.array(ct.fit_transform(x))"
      ],
      "metadata": {
        "id": "eITQCakiY4oB"
      },
      "execution_count": null,
      "outputs": []
    },
    {
      "cell_type": "code",
      "source": [
        "# executing the cell we obtain:\n",
        "print(x)"
      ],
      "metadata": {
        "colab": {
          "base_uri": "https://localhost:8080/"
        },
        "id": "CzTCTA-0Y--Z",
        "outputId": "cf0db90b-0d12-4b07-feed-78bebff572c0"
      },
      "execution_count": null,
      "outputs": [
        {
          "output_type": "stream",
          "name": "stdout",
          "text": [
            "  (0, 826)\t1.0\n",
            "  (0, 827)\t34.19\n",
            "  (0, 828)\t15.0\n",
            "  (0, 829)\t5612.0\n",
            "  (0, 830)\t1283.0\n",
            "  (0, 831)\t1015.0\n",
            "  (0, 832)\t472.0\n",
            "  (0, 833)\t1.4936\n",
            "  (1, 825)\t1.0\n",
            "  (1, 827)\t34.4\n",
            "  (1, 828)\t19.0\n",
            "  (1, 829)\t7650.0\n",
            "  (1, 830)\t1901.0\n",
            "  (1, 831)\t1129.0\n",
            "  (1, 832)\t463.0\n",
            "  (1, 833)\t1.82\n",
            "  (2, 824)\t1.0\n",
            "  (2, 827)\t33.69\n",
            "  (2, 828)\t17.0\n",
            "  (2, 829)\t720.0\n",
            "  (2, 830)\t174.0\n",
            "  (2, 831)\t333.0\n",
            "  (2, 832)\t117.0\n",
            "  (2, 833)\t1.6509\n",
            "  (3, 823)\t1.0\n",
            "  :\t:\n",
            "  (16996, 833)\t2.5179\n",
            "  (16997, 1)\t1.0\n",
            "  (16997, 827)\t41.84\n",
            "  (16997, 828)\t17.0\n",
            "  (16997, 829)\t2677.0\n",
            "  (16997, 830)\t531.0\n",
            "  (16997, 831)\t1244.0\n",
            "  (16997, 832)\t456.0\n",
            "  (16997, 833)\t3.0313\n",
            "  (16998, 1)\t1.0\n",
            "  (16998, 827)\t41.8\n",
            "  (16998, 828)\t19.0\n",
            "  (16998, 829)\t2672.0\n",
            "  (16998, 830)\t552.0\n",
            "  (16998, 831)\t1298.0\n",
            "  (16998, 832)\t478.0\n",
            "  (16998, 833)\t1.9797\n",
            "  (16999, 0)\t1.0\n",
            "  (16999, 827)\t40.54\n",
            "  (16999, 828)\t52.0\n",
            "  (16999, 829)\t1820.0\n",
            "  (16999, 830)\t300.0\n",
            "  (16999, 831)\t806.0\n",
            "  (16999, 832)\t270.0\n",
            "  (16999, 833)\t3.0147\n"
          ]
        }
      ]
    },
    {
      "cell_type": "markdown",
      "source": [
        "To encode our depended variable y, let’s run the code below:"
      ],
      "metadata": {
        "id": "tV8KSolqZEyj"
      }
    },
    {
      "cell_type": "code",
      "source": [
        "from sklearn.preprocessing import LabelEncoder\n",
        "le = LabelEncoder()\n",
        "y = le.fit_transform(y)"
      ],
      "metadata": {
        "id": "a9QYN3oqZHpJ"
      },
      "execution_count": null,
      "outputs": []
    },
    {
      "cell_type": "code",
      "source": [
        "print(y)"
      ],
      "metadata": {
        "colab": {
          "base_uri": "https://localhost:8080/"
        },
        "id": "gQ_CDNYnZNFu",
        "outputId": "70d6e2c9-2913-4a88-c413-faad5acb3c62"
      },
      "execution_count": null,
      "outputs": [
        {
          "output_type": "stream",
          "name": "stdout",
          "text": [
            "[246 376 432 ... 611 433 521]\n"
          ]
        }
      ]
    }
  ]
}