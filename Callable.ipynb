{
  "nbformat": 4,
  "nbformat_minor": 0,
  "metadata": {
    "colab": {
      "name": "Callable.ipynb",
      "provenance": []
    },
    "kernelspec": {
      "name": "python3",
      "display_name": "Python 3"
    },
    "language_info": {
      "name": "python"
    }
  },
  "cells": [
    {
      "cell_type": "markdown",
      "source": [
        "The callable() method takes only one argument, an object and returns one of the two values:\n",
        "\n",
        "returns True, if the object appears to be callable.\n",
        "returns False, if the object is not callable."
      ],
      "metadata": {
        "id": "MqZVGtjHBptx"
      }
    },
    {
      "cell_type": "markdown",
      "source": [
        "Case : When Object is callable"
      ],
      "metadata": {
        "id": "94pZMj5MBt4a"
      }
    },
    {
      "cell_type": "code",
      "source": [
        "# Python program to illustrate \n",
        "# callable()\n",
        "# a test function\n",
        "def Geek():\n",
        "    return 5\n",
        "  \n",
        "# an object is created of Geek()\n",
        "let = Geek\n",
        "print(callable(let))\n",
        "  \n",
        "# a test variable\n",
        "num = 5 * 5\n",
        "print(callable(num))"
      ],
      "metadata": {
        "colab": {
          "base_uri": "https://localhost:8080/"
        },
        "id": "8N2kpCp5B838",
        "outputId": "c85c8b23-71f0-4b60-e461-6788bce45d9d"
      },
      "execution_count": null,
      "outputs": [
        {
          "output_type": "stream",
          "name": "stdout",
          "text": [
            "True\n",
            "False\n"
          ]
        }
      ]
    },
    {
      "cell_type": "markdown",
      "source": [
        "Case : When Object is NOT callable"
      ],
      "metadata": {
        "id": "hEqynprmCNjT"
      }
    },
    {
      "cell_type": "code",
      "source": [
        "# Python program to illustrate \n",
        "# callable()\n",
        "class Geek:\n",
        "  def testFunc(self):\n",
        "    print('Hello GeeksforGeeks')\n",
        "  \n",
        "# Suggests that the Geek class is callable\n",
        "print(callable(Geek))\n",
        "  \n",
        "GeekObject = Geek()\n",
        "# The object will be created but \n",
        "# returns an error on calling\n",
        "GeekObject()"
      ],
      "metadata": {
        "colab": {
          "base_uri": "https://localhost:8080/",
          "height": 218
        },
        "id": "_kpOQedfCOuL",
        "outputId": "90d07537-c408-4463-ba29-80986fa943bd"
      },
      "execution_count": null,
      "outputs": [
        {
          "output_type": "stream",
          "name": "stdout",
          "text": [
            "True\n"
          ]
        },
        {
          "output_type": "error",
          "ename": "TypeError",
          "evalue": "ignored",
          "traceback": [
            "\u001b[0;31m---------------------------------------------------------------------------\u001b[0m",
            "\u001b[0;31mTypeError\u001b[0m                                 Traceback (most recent call last)",
            "\u001b[0;32m<ipython-input-2-62788ef34623>\u001b[0m in \u001b[0;36m<module>\u001b[0;34m()\u001b[0m\n\u001b[1;32m     11\u001b[0m \u001b[0;31m# The object will be created but\u001b[0m\u001b[0;34m\u001b[0m\u001b[0;34m\u001b[0m\u001b[0;34m\u001b[0m\u001b[0m\n\u001b[1;32m     12\u001b[0m \u001b[0;31m# returns an error on calling\u001b[0m\u001b[0;34m\u001b[0m\u001b[0;34m\u001b[0m\u001b[0;34m\u001b[0m\u001b[0m\n\u001b[0;32m---> 13\u001b[0;31m \u001b[0mGeekObject\u001b[0m\u001b[0;34m(\u001b[0m\u001b[0;34m)\u001b[0m\u001b[0;34m\u001b[0m\u001b[0;34m\u001b[0m\u001b[0m\n\u001b[0m",
            "\u001b[0;31mTypeError\u001b[0m: 'Geek' object is not callable"
          ]
        }
      ]
    },
    {
      "cell_type": "markdown",
      "source": [
        "Explanation: The callable() method returns True suggesting that the Geek class is callable, but the instance of Geek is not callable() and it returns a runtime error"
      ],
      "metadata": {
        "id": "mBL5NTa5BqV1"
      }
    }
  ]
}