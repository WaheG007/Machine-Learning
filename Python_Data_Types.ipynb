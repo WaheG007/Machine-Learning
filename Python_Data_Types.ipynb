{
  "nbformat": 4,
  "nbformat_minor": 0,
  "metadata": {
    "colab": {
      "name": "Python-Data Types",
      "provenance": []
    },
    "kernelspec": {
      "name": "python3",
      "display_name": "Python 3"
    },
    "language_info": {
      "name": "python"
    }
  },
  "cells": [
    {
      "cell_type": "code",
      "execution_count": null,
      "metadata": {
        "id": "1Ozzt96ZkeB5"
      },
      "outputs": [],
      "source": [
        ""
      ]
    },
    {
      "cell_type": "markdown",
      "source": [
        "Python has the following data types built-in by default, in these categories:\n",
        "Text Type: str\n",
        "\n",
        "Numeric Types: int, float, complex\n",
        "\n",
        "Sequence Types: list, tuple, range\n",
        "\n",
        "Mapping Type: dict\n",
        "\n",
        "Set Types: set, frozenset\n",
        "\n",
        "Boolean Type: bool\n",
        "\n",
        "Binary Types: bytes, bytearray, memoryview"
      ],
      "metadata": {
        "id": "jXh3OVnsktPY"
      }
    },
    {
      "cell_type": "code",
      "source": [
        ""
      ],
      "metadata": {
        "id": "N09-v6TakuxW"
      },
      "execution_count": null,
      "outputs": []
    },
    {
      "cell_type": "markdown",
      "source": [
        "Integer"
      ],
      "metadata": {
        "id": "fNeXlNNgk5pY"
      }
    },
    {
      "cell_type": "code",
      "source": [
        "x = 156\n",
        "print(type(x))"
      ],
      "metadata": {
        "colab": {
          "base_uri": "https://localhost:8080/"
        },
        "id": "GA5-J1q5k8JM",
        "outputId": "7bd718dd-a2a3-4dbd-ff20-d8cccbf57927"
      },
      "execution_count": null,
      "outputs": [
        {
          "output_type": "stream",
          "name": "stdout",
          "text": [
            "<class 'int'>\n"
          ]
        }
      ]
    },
    {
      "cell_type": "markdown",
      "source": [
        "Float"
      ],
      "metadata": {
        "id": "pAvSn3hilCji"
      }
    },
    {
      "cell_type": "code",
      "source": [
        "y = 8.96\n",
        "print(type(y))"
      ],
      "metadata": {
        "colab": {
          "base_uri": "https://localhost:8080/"
        },
        "id": "xWHl6wRSlJwu",
        "outputId": "bf62e099-01da-4697-91cc-f3ad0e8fb7f1"
      },
      "execution_count": null,
      "outputs": [
        {
          "output_type": "stream",
          "name": "stdout",
          "text": [
            "<class 'float'>\n"
          ]
        }
      ]
    },
    {
      "cell_type": "markdown",
      "source": [
        "String"
      ],
      "metadata": {
        "id": "04Me55ZklopH"
      }
    },
    {
      "cell_type": "code",
      "source": [
        "z = 'string'\n",
        "print(type(z))"
      ],
      "metadata": {
        "colab": {
          "base_uri": "https://localhost:8080/"
        },
        "id": "ebECo4uJlvTc",
        "outputId": "7a3df838-4ea9-43ff-fc25-6f65a779585c"
      },
      "execution_count": null,
      "outputs": [
        {
          "output_type": "stream",
          "name": "stdout",
          "text": [
            "<class 'str'>\n"
          ]
        }
      ]
    },
    {
      "cell_type": "markdown",
      "source": [
        "Complex\n"
      ],
      "metadata": {
        "id": "1SjweJ4vlzj_"
      }
    },
    {
      "cell_type": "code",
      "source": [
        "a = 1j\n",
        "print(type(a))"
      ],
      "metadata": {
        "colab": {
          "base_uri": "https://localhost:8080/"
        },
        "id": "ho22gsTpl2xK",
        "outputId": "2a8ed159-fd2f-4a0d-d67e-6c23d4ae2d93"
      },
      "execution_count": null,
      "outputs": [
        {
          "output_type": "stream",
          "name": "stdout",
          "text": [
            "<class 'complex'>\n"
          ]
        }
      ]
    },
    {
      "cell_type": "markdown",
      "source": [
        "Tuple\n"
      ],
      "metadata": {
        "id": "L4j9Ra7El9Xl"
      }
    },
    {
      "cell_type": "code",
      "source": [
        "b = tuple(('apple','ball','cat'))\n",
        "print(type(b))"
      ],
      "metadata": {
        "colab": {
          "base_uri": "https://localhost:8080/"
        },
        "id": "aXIjz93bl-z0",
        "outputId": "de1bf213-453b-415a-e8d6-50e294e2aab0"
      },
      "execution_count": null,
      "outputs": [
        {
          "output_type": "stream",
          "name": "stdout",
          "text": [
            "<class 'tuple'>\n"
          ]
        }
      ]
    },
    {
      "cell_type": "markdown",
      "source": [
        "Set"
      ],
      "metadata": {
        "id": "DzHH8Khgm5QN"
      }
    },
    {
      "cell_type": "code",
      "source": [
        "c = set(('apple', 'ball'))\n",
        "print(type(c))"
      ],
      "metadata": {
        "colab": {
          "base_uri": "https://localhost:8080/"
        },
        "id": "y9JTnenenAIY",
        "outputId": "a9c6585c-7a08-4f83-8b4a-b6d2be655ad5"
      },
      "execution_count": null,
      "outputs": [
        {
          "output_type": "stream",
          "name": "stdout",
          "text": [
            "<class 'set'>\n"
          ]
        }
      ]
    },
    {
      "cell_type": "markdown",
      "source": [
        "Dictionary"
      ],
      "metadata": {
        "id": "nzd5ja-EnItn"
      }
    },
    {
      "cell_type": "code",
      "source": [
        "d = {'Name': 'John', 'Age': 56, 'Salary': 78896.8}\n",
        "print(type(d))"
      ],
      "metadata": {
        "colab": {
          "base_uri": "https://localhost:8080/"
        },
        "id": "CFLtX9QQnK_t",
        "outputId": "e4e991d1-e050-415b-ebb8-d97a386881b2"
      },
      "execution_count": null,
      "outputs": [
        {
          "output_type": "stream",
          "name": "stdout",
          "text": [
            "<class 'dict'>\n"
          ]
        }
      ]
    },
    {
      "cell_type": "markdown",
      "source": [
        "Frozen Set"
      ],
      "metadata": {
        "id": "LH7IaLOnngE-"
      }
    },
    {
      "cell_type": "code",
      "source": [
        "e = frozenset({\"Dog\",\"Cat\",\"Parrot\"})\n",
        "print(type(e))"
      ],
      "metadata": {
        "colab": {
          "base_uri": "https://localhost:8080/"
        },
        "id": "Id55IZnfnfqS",
        "outputId": "624953e0-74fa-46eb-807c-6de004a832ea"
      },
      "execution_count": null,
      "outputs": [
        {
          "output_type": "stream",
          "name": "stdout",
          "text": [
            "<class 'frozenset'>\n"
          ]
        }
      ]
    },
    {
      "cell_type": "markdown",
      "source": [
        "Boolean"
      ],
      "metadata": {
        "id": "FGrVtR5Yn02Q"
      }
    },
    {
      "cell_type": "code",
      "source": [
        "f = True\n",
        "print(type(f))"
      ],
      "metadata": {
        "colab": {
          "base_uri": "https://localhost:8080/"
        },
        "id": "FFwTsiCtn3BL",
        "outputId": "0f1bd63b-858c-416c-e926-c6cb5124ba95"
      },
      "execution_count": null,
      "outputs": [
        {
          "output_type": "stream",
          "name": "stdout",
          "text": [
            "<class 'bool'>\n"
          ]
        }
      ]
    },
    {
      "cell_type": "markdown",
      "source": [
        "Bytes"
      ],
      "metadata": {
        "id": "XJ13hMRyn-ZT"
      }
    },
    {
      "cell_type": "code",
      "source": [
        "g = b\"Hello\"\n",
        "print(type(g))"
      ],
      "metadata": {
        "colab": {
          "base_uri": "https://localhost:8080/"
        },
        "id": "jPMi-tBHoDRT",
        "outputId": "99a1d49c-a22d-4098-c0f7-1eb5c0a67b78"
      },
      "execution_count": null,
      "outputs": [
        {
          "output_type": "stream",
          "name": "stdout",
          "text": [
            "<class 'bytes'>\n"
          ]
        }
      ]
    },
    {
      "cell_type": "markdown",
      "source": [
        "Bytearray"
      ],
      "metadata": {
        "id": "WhcXu0N5oK_L"
      }
    },
    {
      "cell_type": "code",
      "source": [
        "h = bytearray(85)\n",
        "print(type(h))"
      ],
      "metadata": {
        "colab": {
          "base_uri": "https://localhost:8080/"
        },
        "id": "mSSXIJt9oQXm",
        "outputId": "958c6bc2-905e-47ba-c5c4-3918bf6d991a"
      },
      "execution_count": null,
      "outputs": [
        {
          "output_type": "stream",
          "name": "stdout",
          "text": [
            "<class 'bytearray'>\n"
          ]
        }
      ]
    },
    {
      "cell_type": "markdown",
      "source": [
        "Lists"
      ],
      "metadata": {
        "id": "eslj0Q-8ytl1"
      }
    },
    {
      "cell_type": "code",
      "source": [
        "x = list((7, 8, 9, 5))\n",
        "print(type(x))"
      ],
      "metadata": {
        "colab": {
          "base_uri": "https://localhost:8080/"
        },
        "id": "VVpLCtbayvtn",
        "outputId": "1ae9e6e3-96e4-46ca-d773-5d61d30289e1"
      },
      "execution_count": null,
      "outputs": [
        {
          "output_type": "stream",
          "name": "stdout",
          "text": [
            "<class 'list'>\n"
          ]
        }
      ]
    }
  ]
}