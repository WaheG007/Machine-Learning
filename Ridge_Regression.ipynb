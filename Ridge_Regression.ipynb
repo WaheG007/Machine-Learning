{
  "nbformat": 4,
  "nbformat_minor": 0,
  "metadata": {
    "colab": {
      "name": "Ridge Regression.ipynb",
      "provenance": []
    },
    "kernelspec": {
      "name": "python3",
      "display_name": "Python 3"
    },
    "language_info": {
      "name": "python"
    }
  },
  "cells": [
    {
      "cell_type": "code",
      "execution_count": null,
      "metadata": {
        "id": "_2fznuSStVCL"
      },
      "outputs": [],
      "source": [
        "## Requried Python Packages\n",
        "from sklearn.datasets import make_regression\n",
        "from matplotlib import pyplot as plt\n",
        "import numpy as np\n",
        "from sklearn.linear_model import Ridge\n",
        "\n",
        "\n",
        "## Create datasets\n",
        "A, b, coefficients = make_regression(\n",
        "    n_samples=50,\n",
        "    n_features=1,\n",
        "    n_informative=1,\n",
        "    n_targets=1,\n",
        "    noise=5,\n",
        "    coef=True,\n",
        "    random_state=1\n",
        ")\n"
      ]
    },
    {
      "cell_type": "markdown",
      "source": [
        "When the alpha is large, the model has a very high bias. With the value=1 of alpha"
      ],
      "metadata": {
        "id": "qw5eoR9Gkbk6"
      }
    },
    {
      "cell_type": "code",
      "source": [
        "alpha = 1\n",
        "n, m = A.shape\n",
        "\n",
        "I = np.identity(m)\n",
        "w = np.dot(np.dot(np.linalg.inv(np.dot(A.T, A) + alpha * I), A.T), b)\n",
        "\n",
        "## Outputs\n",
        "## w = array([87.37153533])\n",
        "## coefficients = array(90.34019153)"
      ],
      "metadata": {
        "id": "T4lklKtJOkkn"
      },
      "execution_count": null,
      "outputs": []
    },
    {
      "cell_type": "markdown",
      "source": [
        "\n",
        "Now, let’s have a look at how the regression line will fit the data.\n"
      ],
      "metadata": {
        "id": "n4rsBLPukoDX"
      }
    },
    {
      "cell_type": "code",
      "source": [
        "plt.scatter(A, b)\n",
        "plt.plot(A, w*A, c='red')"
      ],
      "metadata": {
        "colab": {
          "base_uri": "https://localhost:8080/",
          "height": 284
        },
        "id": "vPZ_1Ye2kzXS",
        "outputId": "309893cf-47f4-44da-d244-c11202fbef32"
      },
      "execution_count": null,
      "outputs": [
        {
          "output_type": "execute_result",
          "data": {
            "text/plain": [
              "[<matplotlib.lines.Line2D at 0x7f77601a5250>]"
            ]
          },
          "metadata": {},
          "execution_count": 7
        },
        {
          "output_type": "display_data",
          "data": {
            "text/plain": [
              "<Figure size 432x288 with 1 Axes>"
            ],
            "image/png": "[encoded data removed]"
          },
          "metadata": {
            "needs_background": "light"
          }
        }
      ]
    },
    {
      "cell_type": "markdown",
      "source": [
        "Now, we do the same thing using the scikit-learn implementation of Ridge Regression. For this, we need first to create and train an instance of the Ridge Class."
      ],
      "metadata": {
        "id": "44TTHOvuk6gk"
      }
    },
    {
      "cell_type": "code",
      "source": [
        "## ridge with alpha 0.5\n",
        "rr = Ridge(alpha=0.5)\n",
        "rr.fit(A, b)\n",
        "w = rr.coef_\n",
        "\n",
        "## Output w = array([88.31917399])\n",
        "\n",
        "plt.scatter(A, b)\n",
        "plt.plot(A, w*A, c='red')"
      ],
      "metadata": {
        "colab": {
          "base_uri": "https://localhost:8080/",
          "height": 284
        },
        "id": "RHlo4KzUk-b_",
        "outputId": "72a1cf85-ff79-4c84-ccaf-52197c3fa11e"
      },
      "execution_count": null,
      "outputs": [
        {
          "output_type": "execute_result",
          "data": {
            "text/plain": [
              "[<matplotlib.lines.Line2D at 0x7f775dc89d10>]"
            ]
          },
          "metadata": {},
          "execution_count": 8
        },
        {
          "output_type": "display_data",
          "data": {
            "text/plain": [
              "<Figure size 432x288 with 1 Axes>"
            ],
            "image/png": "[encoded data removed]"
          },
          "metadata": {
            "needs_background": "light"
          }
        }
      ]
    },
    {
      "cell_type": "markdown",
      "source": [
        "As we can see that the regression line was pretty much better when we opted for 0.5 as the value of alpha. Now, we try by putting '10' as the value of our hyperparameter."
      ],
      "metadata": {
        "id": "Y9JvGbrOlDTs"
      }
    },
    {
      "cell_type": "code",
      "source": [
        "## ridge with alpha 10\n",
        "rr = Ridge(alpha=10)\n",
        "rr.fit(A, b)\n",
        "w = rr.coef_[0]\n",
        "plt.scatter(A, b)\n",
        "plt.plot(A, w*A, c='red')"
      ],
      "metadata": {
        "colab": {
          "base_uri": "https://localhost:8080/",
          "height": 284
        },
        "id": "aO6JUaBPlGTU",
        "outputId": "d921dae7-5056-4a11-a181-2f2328ed18ac"
      },
      "execution_count": null,
      "outputs": [
        {
          "output_type": "execute_result",
          "data": {
            "text/plain": [
              "[<matplotlib.lines.Line2D at 0x7f775dc08c10>]"
            ]
          },
          "metadata": {},
          "execution_count": 9
        },
        {
          "output_type": "display_data",
          "data": {
            "text/plain": [
              "<Figure size 432x288 with 1 Axes>"
            ],
            "image/png": "[encoded data removed]"
          },
          "metadata": {
            "needs_background": "light"
          }
        }
      ]
    },
    {
      "cell_type": "markdown",
      "source": [
        "**CONCLUSION**"
      ],
      "metadata": {
        "id": "645PUxAIljDH"
      }
    },
    {
      "cell_type": "markdown",
      "source": [
        "\n",
        "So, we studied ridge regression and compared it with Lasso regression along with Least Square Method. We dived deeply into the ridge regression by viewing it from different angles like a mathematical formula, vectorized notation, and geometric explanation. \n",
        "\n",
        "We got an idea that ridge regression is a linear regression with a penalty. Learned that no equation could find the best value of lambda. We iterated and tried several random different values to evaluate the prediction performances with MSE correctly. "
      ],
      "metadata": {
        "id": "M9zF9sDhlWej"
      }
    }
  ]
}